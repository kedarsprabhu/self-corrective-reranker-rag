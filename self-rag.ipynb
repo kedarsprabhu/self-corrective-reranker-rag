{
 "cells": [
  {
   "cell_type": "code",
   "execution_count": 4,
   "metadata": {},
   "outputs": [
    {
     "name": "stdout",
     "output_type": "stream",
     "text": [
      "Requirement already satisfied: langgraph==0.4.1 in d:\\agentic rag\\.venv\\lib\\site-packages (from -r requirements.txt (line 1)) (0.4.1)\n",
      "Requirement already satisfied: langchain==0.3.25 in d:\\agentic rag\\.venv\\lib\\site-packages (from -r requirements.txt (line 2)) (0.3.25)\n",
      "Requirement already satisfied: voyageai==0.3.2 in d:\\agentic rag\\.venv\\lib\\site-packages (from -r requirements.txt (line 3)) (0.3.2)\n",
      "Requirement already satisfied: python-dotenv==1.1.0 in d:\\agentic rag\\.venv\\lib\\site-packages (from -r requirements.txt (line 4)) (1.1.0)\n",
      "Collecting langchain-groq==0.3.2 (from -r requirements.txt (line 5))\n",
      "  Downloading langchain_groq-0.3.2-py3-none-any.whl.metadata (2.6 kB)\n",
      "Requirement already satisfied: langchain-core>=0.1 in d:\\agentic rag\\.venv\\lib\\site-packages (from langgraph==0.4.1->-r requirements.txt (line 1)) (0.3.58)\n",
      "Requirement already satisfied: langgraph-checkpoint<3.0.0,>=2.0.10 in d:\\agentic rag\\.venv\\lib\\site-packages (from langgraph==0.4.1->-r requirements.txt (line 1)) (2.0.25)\n",
      "Requirement already satisfied: langgraph-prebuilt>=0.1.8 in d:\\agentic rag\\.venv\\lib\\site-packages (from langgraph==0.4.1->-r requirements.txt (line 1)) (0.1.8)\n",
      "Requirement already satisfied: langgraph-sdk>=0.1.42 in d:\\agentic rag\\.venv\\lib\\site-packages (from langgraph==0.4.1->-r requirements.txt (line 1)) (0.1.66)\n",
      "Requirement already satisfied: pydantic>=2.7.4 in d:\\agentic rag\\.venv\\lib\\site-packages (from langgraph==0.4.1->-r requirements.txt (line 1)) (2.11.4)\n",
      "Requirement already satisfied: xxhash<4.0.0,>=3.5.0 in d:\\agentic rag\\.venv\\lib\\site-packages (from langgraph==0.4.1->-r requirements.txt (line 1)) (3.5.0)\n",
      "Requirement already satisfied: langchain-text-splitters<1.0.0,>=0.3.8 in d:\\agentic rag\\.venv\\lib\\site-packages (from langchain==0.3.25->-r requirements.txt (line 2)) (0.3.8)\n",
      "Requirement already satisfied: langsmith<0.4,>=0.1.17 in d:\\agentic rag\\.venv\\lib\\site-packages (from langchain==0.3.25->-r requirements.txt (line 2)) (0.3.42)\n",
      "Requirement already satisfied: SQLAlchemy<3,>=1.4 in d:\\agentic rag\\.venv\\lib\\site-packages (from langchain==0.3.25->-r requirements.txt (line 2)) (2.0.40)\n",
      "Requirement already satisfied: requests<3,>=2 in d:\\agentic rag\\.venv\\lib\\site-packages (from langchain==0.3.25->-r requirements.txt (line 2)) (2.32.3)\n",
      "Requirement already satisfied: PyYAML>=5.3 in d:\\agentic rag\\.venv\\lib\\site-packages (from langchain==0.3.25->-r requirements.txt (line 2)) (6.0.2)\n",
      "Requirement already satisfied: aiohttp in d:\\agentic rag\\.venv\\lib\\site-packages (from voyageai==0.3.2->-r requirements.txt (line 3)) (3.11.18)\n",
      "Requirement already satisfied: aiolimiter in d:\\agentic rag\\.venv\\lib\\site-packages (from voyageai==0.3.2->-r requirements.txt (line 3)) (1.2.1)\n",
      "Requirement already satisfied: numpy in d:\\agentic rag\\.venv\\lib\\site-packages (from voyageai==0.3.2->-r requirements.txt (line 3)) (2.2.5)\n",
      "Requirement already satisfied: pillow in d:\\agentic rag\\.venv\\lib\\site-packages (from voyageai==0.3.2->-r requirements.txt (line 3)) (11.2.1)\n",
      "Requirement already satisfied: tenacity in d:\\agentic rag\\.venv\\lib\\site-packages (from voyageai==0.3.2->-r requirements.txt (line 3)) (9.1.2)\n",
      "Requirement already satisfied: tokenizers>=0.14.0 in d:\\agentic rag\\.venv\\lib\\site-packages (from voyageai==0.3.2->-r requirements.txt (line 3)) (0.21.1)\n",
      "Collecting groq<1,>=0.4.1 (from langchain-groq==0.3.2->-r requirements.txt (line 5))\n",
      "  Downloading groq-0.24.0-py3-none-any.whl.metadata (15 kB)\n",
      "Requirement already satisfied: anyio<5,>=3.5.0 in d:\\agentic rag\\.venv\\lib\\site-packages (from groq<1,>=0.4.1->langchain-groq==0.3.2->-r requirements.txt (line 5)) (4.9.0)\n",
      "Collecting distro<2,>=1.7.0 (from groq<1,>=0.4.1->langchain-groq==0.3.2->-r requirements.txt (line 5))\n",
      "  Using cached distro-1.9.0-py3-none-any.whl.metadata (6.8 kB)\n",
      "Requirement already satisfied: httpx<1,>=0.23.0 in d:\\agentic rag\\.venv\\lib\\site-packages (from groq<1,>=0.4.1->langchain-groq==0.3.2->-r requirements.txt (line 5)) (0.28.1)\n",
      "Requirement already satisfied: sniffio in d:\\agentic rag\\.venv\\lib\\site-packages (from groq<1,>=0.4.1->langchain-groq==0.3.2->-r requirements.txt (line 5)) (1.3.1)\n",
      "Requirement already satisfied: typing-extensions<5,>=4.10 in d:\\agentic rag\\.venv\\lib\\site-packages (from groq<1,>=0.4.1->langchain-groq==0.3.2->-r requirements.txt (line 5)) (4.13.2)\n",
      "Requirement already satisfied: idna>=2.8 in d:\\agentic rag\\.venv\\lib\\site-packages (from anyio<5,>=3.5.0->groq<1,>=0.4.1->langchain-groq==0.3.2->-r requirements.txt (line 5)) (3.10)\n",
      "Requirement already satisfied: certifi in d:\\agentic rag\\.venv\\lib\\site-packages (from httpx<1,>=0.23.0->groq<1,>=0.4.1->langchain-groq==0.3.2->-r requirements.txt (line 5)) (2025.4.26)\n",
      "Requirement already satisfied: httpcore==1.* in d:\\agentic rag\\.venv\\lib\\site-packages (from httpx<1,>=0.23.0->groq<1,>=0.4.1->langchain-groq==0.3.2->-r requirements.txt (line 5)) (1.0.9)\n",
      "Requirement already satisfied: h11>=0.16 in d:\\agentic rag\\.venv\\lib\\site-packages (from httpcore==1.*->httpx<1,>=0.23.0->groq<1,>=0.4.1->langchain-groq==0.3.2->-r requirements.txt (line 5)) (0.16.0)\n",
      "Requirement already satisfied: jsonpatch<2.0,>=1.33 in d:\\agentic rag\\.venv\\lib\\site-packages (from langchain-core>=0.1->langgraph==0.4.1->-r requirements.txt (line 1)) (1.33)\n",
      "Requirement already satisfied: packaging<25,>=23.2 in d:\\agentic rag\\.venv\\lib\\site-packages (from langchain-core>=0.1->langgraph==0.4.1->-r requirements.txt (line 1)) (24.2)\n",
      "Requirement already satisfied: jsonpointer>=1.9 in d:\\agentic rag\\.venv\\lib\\site-packages (from jsonpatch<2.0,>=1.33->langchain-core>=0.1->langgraph==0.4.1->-r requirements.txt (line 1)) (3.0.0)\n",
      "Requirement already satisfied: ormsgpack<2.0.0,>=1.8.0 in d:\\agentic rag\\.venv\\lib\\site-packages (from langgraph-checkpoint<3.0.0,>=2.0.10->langgraph==0.4.1->-r requirements.txt (line 1)) (1.9.1)\n",
      "Requirement already satisfied: orjson<4.0.0,>=3.9.14 in d:\\agentic rag\\.venv\\lib\\site-packages (from langsmith<0.4,>=0.1.17->langchain==0.3.25->-r requirements.txt (line 2)) (3.10.18)\n",
      "Requirement already satisfied: requests-toolbelt<2.0.0,>=1.0.0 in d:\\agentic rag\\.venv\\lib\\site-packages (from langsmith<0.4,>=0.1.17->langchain==0.3.25->-r requirements.txt (line 2)) (1.0.0)\n",
      "Requirement already satisfied: zstandard<0.24.0,>=0.23.0 in d:\\agentic rag\\.venv\\lib\\site-packages (from langsmith<0.4,>=0.1.17->langchain==0.3.25->-r requirements.txt (line 2)) (0.23.0)\n",
      "Requirement already satisfied: annotated-types>=0.6.0 in d:\\agentic rag\\.venv\\lib\\site-packages (from pydantic>=2.7.4->langgraph==0.4.1->-r requirements.txt (line 1)) (0.7.0)\n",
      "Requirement already satisfied: pydantic-core==2.33.2 in d:\\agentic rag\\.venv\\lib\\site-packages (from pydantic>=2.7.4->langgraph==0.4.1->-r requirements.txt (line 1)) (2.33.2)\n",
      "Requirement already satisfied: typing-inspection>=0.4.0 in d:\\agentic rag\\.venv\\lib\\site-packages (from pydantic>=2.7.4->langgraph==0.4.1->-r requirements.txt (line 1)) (0.4.0)\n",
      "Requirement already satisfied: charset-normalizer<4,>=2 in d:\\agentic rag\\.venv\\lib\\site-packages (from requests<3,>=2->langchain==0.3.25->-r requirements.txt (line 2)) (3.4.2)\n",
      "Requirement already satisfied: urllib3<3,>=1.21.1 in d:\\agentic rag\\.venv\\lib\\site-packages (from requests<3,>=2->langchain==0.3.25->-r requirements.txt (line 2)) (2.4.0)\n",
      "Requirement already satisfied: greenlet>=1 in d:\\agentic rag\\.venv\\lib\\site-packages (from SQLAlchemy<3,>=1.4->langchain==0.3.25->-r requirements.txt (line 2)) (3.2.1)\n",
      "Requirement already satisfied: huggingface-hub<1.0,>=0.16.4 in d:\\agentic rag\\.venv\\lib\\site-packages (from tokenizers>=0.14.0->voyageai==0.3.2->-r requirements.txt (line 3)) (0.30.2)\n",
      "Requirement already satisfied: filelock in d:\\agentic rag\\.venv\\lib\\site-packages (from huggingface-hub<1.0,>=0.16.4->tokenizers>=0.14.0->voyageai==0.3.2->-r requirements.txt (line 3)) (3.18.0)\n",
      "Requirement already satisfied: fsspec>=2023.5.0 in d:\\agentic rag\\.venv\\lib\\site-packages (from huggingface-hub<1.0,>=0.16.4->tokenizers>=0.14.0->voyageai==0.3.2->-r requirements.txt (line 3)) (2025.3.2)\n",
      "Requirement already satisfied: tqdm>=4.42.1 in d:\\agentic rag\\.venv\\lib\\site-packages (from huggingface-hub<1.0,>=0.16.4->tokenizers>=0.14.0->voyageai==0.3.2->-r requirements.txt (line 3)) (4.67.1)\n",
      "Requirement already satisfied: colorama in d:\\agentic rag\\.venv\\lib\\site-packages (from tqdm>=4.42.1->huggingface-hub<1.0,>=0.16.4->tokenizers>=0.14.0->voyageai==0.3.2->-r requirements.txt (line 3)) (0.4.6)\n",
      "Requirement already satisfied: aiohappyeyeballs>=2.3.0 in d:\\agentic rag\\.venv\\lib\\site-packages (from aiohttp->voyageai==0.3.2->-r requirements.txt (line 3)) (2.6.1)\n",
      "Requirement already satisfied: aiosignal>=1.1.2 in d:\\agentic rag\\.venv\\lib\\site-packages (from aiohttp->voyageai==0.3.2->-r requirements.txt (line 3)) (1.3.2)\n",
      "Requirement already satisfied: attrs>=17.3.0 in d:\\agentic rag\\.venv\\lib\\site-packages (from aiohttp->voyageai==0.3.2->-r requirements.txt (line 3)) (25.3.0)\n",
      "Requirement already satisfied: frozenlist>=1.1.1 in d:\\agentic rag\\.venv\\lib\\site-packages (from aiohttp->voyageai==0.3.2->-r requirements.txt (line 3)) (1.6.0)\n",
      "Requirement already satisfied: multidict<7.0,>=4.5 in d:\\agentic rag\\.venv\\lib\\site-packages (from aiohttp->voyageai==0.3.2->-r requirements.txt (line 3)) (6.4.3)\n",
      "Requirement already satisfied: propcache>=0.2.0 in d:\\agentic rag\\.venv\\lib\\site-packages (from aiohttp->voyageai==0.3.2->-r requirements.txt (line 3)) (0.3.1)\n",
      "Requirement already satisfied: yarl<2.0,>=1.17.0 in d:\\agentic rag\\.venv\\lib\\site-packages (from aiohttp->voyageai==0.3.2->-r requirements.txt (line 3)) (1.20.0)\n",
      "Downloading langchain_groq-0.3.2-py3-none-any.whl (15 kB)\n",
      "Downloading groq-0.24.0-py3-none-any.whl (127 kB)\n",
      "Using cached distro-1.9.0-py3-none-any.whl (20 kB)\n",
      "Installing collected packages: distro, groq, langchain-groq\n",
      "\n",
      "   ---------------------------------------- 0/3 [distro]\n",
      "   ---------------------------------------- 0/3 [distro]\n",
      "   ------------- -------------------------- 1/3 [groq]\n",
      "   ------------- -------------------------- 1/3 [groq]\n",
      "   ------------- -------------------------- 1/3 [groq]\n",
      "   ------------- -------------------------- 1/3 [groq]\n",
      "   ------------- -------------------------- 1/3 [groq]\n",
      "   ------------- -------------------------- 1/3 [groq]\n",
      "   ------------- -------------------------- 1/3 [groq]\n",
      "   ------------- -------------------------- 1/3 [groq]\n",
      "   ------------- -------------------------- 1/3 [groq]\n",
      "   ------------- -------------------------- 1/3 [groq]\n",
      "   -------------------------- ------------- 2/3 [langchain-groq]\n",
      "   ---------------------------------------- 3/3 [langchain-groq]\n",
      "\n",
      "Successfully installed distro-1.9.0 groq-0.24.0 langchain-groq-0.3.2\n"
     ]
    }
   ],
   "source": [
    "!pip install -r requirements.txt"
   ]
  },
  {
   "cell_type": "code",
   "execution_count": 11,
   "metadata": {},
   "outputs": [
    {
     "data": {
      "text/plain": [
       "True"
      ]
     },
     "execution_count": 11,
     "metadata": {},
     "output_type": "execute_result"
    }
   ],
   "source": [
    "from dotenv import load_dotenv\n",
    "load_dotenv()"
   ]
  },
  {
   "cell_type": "code",
   "execution_count": 12,
   "metadata": {},
   "outputs": [
    {
     "name": "stderr",
     "output_type": "stream",
     "text": [
      "d:\\Agentic rag\\.venv\\Lib\\site-packages\\tqdm\\auto.py:21: TqdmWarning: IProgress not found. Please update jupyter and ipywidgets. See https://ipywidgets.readthedocs.io/en/stable/user_install.html\n",
      "  from .autonotebook import tqdm as notebook_tqdm\n"
     ]
    }
   ],
   "source": [
    "import os\n",
    "import voyageai\n",
    "\n",
    "vo = voyageai.Client(api_key=os.environ.get(\"VOYAGE_API_KEY\"),)"
   ]
  },
  {
   "cell_type": "code",
   "execution_count": 126,
   "metadata": {},
   "outputs": [],
   "source": [
    "# self reflective\n",
    "from langgraph.graph import StateGraph, END\n"
   ]
  },
  {
   "cell_type": "code",
   "execution_count": 14,
   "metadata": {},
   "outputs": [],
   "source": [
    "from langchain.document_loaders import PyMuPDFLoader\n",
    "from langchain.text_splitter import RecursiveCharacterTextSplitter\n",
    "pdf_path = r'C:\\Users\\User\\Downloads\\whatiscs.pdf'\n",
    "loader = PyMuPDFLoader(pdf_path)\n"
   ]
  },
  {
   "cell_type": "code",
   "execution_count": 15,
   "metadata": {},
   "outputs": [
    {
     "data": {
      "text/plain": [
       "Document(metadata={'producer': 'Acrobat Distiller 5.0.5 (Windows)', 'creator': 'PScript5.dll Version 5.2.2', 'creationdate': '2005-09-23T20:50:44-05:00', 'source': 'C:\\\\Users\\\\User\\\\Downloads\\\\whatiscs.pdf', 'file_path': 'C:\\\\Users\\\\User\\\\Downloads\\\\whatiscs.pdf', 'total_pages': 14, 'format': 'PDF 1.3', 'title': 'Microsoft Word - What_Is_CS.doc', 'author': 'hcc', 'subject': '', 'keywords': '', 'moddate': '2005-09-23T20:50:44-05:00', 'trapped': '', 'modDate': \"D:20050923205044-05'00'\", 'creationDate': \"D:20050923205044-05'00'\", 'page': 0}, page_content='1\\nWHAT IS COMPUTER SCIENCE ALL ABOUT? \\n \\nH. Conrad Cunningham and Pallavi Tadepalli \\nDepartment of Computer and Information Science \\nUniversity of Mississippi \\nCOMPUTERS EVERYWHERE \\nAs scientific and engineering disciplines go, computer science is still quite young. \\nAlthough the mathematical roots of computer science go back more than a thousand \\nyears, it is only with the invention of the programmable electronic digital computer \\nduring the World War II era of the 1930s and 1940s that the modern discipline of \\ncomputer science began to take shape. As it has developed, computer science includes \\ntheoretical studies, experimental methods, and engineering design all in one discipline. \\n \\nOne of the first computers was the ENIAC (Electronic Numerical Integrator and \\nComputer), developed in the mid-1940s at the University of Pennsylvania. When \\nconstruction was completed in 1946, the ENIAC cost about $500,000.  In today’s terms, \\nthat is about $5,000,000.  It weighed 30 tons, occupied as much space as a small house, \\nand consumed 160 kilowatts of electric power.  Figure 1 is a classic U.S. Army \\nphotograph of the ENIAC. The ENIAC and most other computers of that era were \\ndesigned for military purposes, such as calculating firing tables for artillery. As a result, \\nmany observers viewed the market for such devices to be quite small. The observers were \\nwrong!   \\n \\n \\n \\n \\nFigure 1. ENIAC in Classic U.S. Army Photograph')"
      ]
     },
     "execution_count": 15,
     "metadata": {},
     "output_type": "execute_result"
    }
   ],
   "source": [
    "docs = loader.load()\n",
    "docs[0]"
   ]
  },
  {
   "cell_type": "code",
   "execution_count": 16,
   "metadata": {},
   "outputs": [],
   "source": [
    "splitter = RecursiveCharacterTextSplitter(chunk_size=1000, chunk_overlap=100)\n",
    "chunks = splitter.split_documents(docs)\n",
    "\n",
    "texts = [doc.page_content for doc in chunks]"
   ]
  },
  {
   "cell_type": "code",
   "execution_count": 7,
   "metadata": {},
   "outputs": [
    {
     "data": {
      "text/plain": [
       "['1\\nWHAT IS COMPUTER SCIENCE ALL ABOUT? \\n \\nH. Conrad Cunningham and Pallavi Tadepalli \\nDepartment of Computer and Information Science \\nUniversity of Mississippi \\nCOMPUTERS EVERYWHERE \\nAs scientific and engineering disciplines go, computer science is still quite young. \\nAlthough the mathematical roots of computer science go back more than a thousand \\nyears, it is only with the invention of the programmable electronic digital computer \\nduring the World War II era of the 1930s and 1940s that the modern discipline of \\ncomputer science began to take shape. As it has developed, computer science includes \\ntheoretical studies, experimental methods, and engineering design all in one discipline. \\n \\nOne of the first computers was the ENIAC (Electronic Numerical Integrator and \\nComputer), developed in the mid-1940s at the University of Pennsylvania. When \\nconstruction was completed in 1946, the ENIAC cost about $500,000.  In today’s terms,',\n",
       " 'construction was completed in 1946, the ENIAC cost about $500,000.  In today’s terms, \\nthat is about $5,000,000.  It weighed 30 tons, occupied as much space as a small house, \\nand consumed 160 kilowatts of electric power.  Figure 1 is a classic U.S. Army \\nphotograph of the ENIAC. The ENIAC and most other computers of that era were \\ndesigned for military purposes, such as calculating firing tables for artillery. As a result, \\nmany observers viewed the market for such devices to be quite small. The observers were \\nwrong!   \\n \\n \\n \\n \\nFigure 1. ENIAC in Classic U.S. Army Photograph',\n",
       " '2\\n \\nElectronics technology has improved greatly in 60 years. Today, a computer with the \\ncapacity of the ENIAC would be smaller than a coin from our pockets, would consume \\nlittle power, and cost just a few dollars on the mass market. Figure 2 shows the Intel \\nPentium M microprocessor. This processor, which was designed for mobile devices such \\nas laptop computers, is smaller than a dime, draws just 21 watts of power, and costs just a \\nfew hundred dollars. Figure 3 shows a handheld computer (i.e., a personal digital \\nassistant, PDA), a far cry from the days of the ENIAC.  \\n \\n \\n \\n \\nFigure 2. Intel Pentium M Microprocessor  \\n[Intel Publicity Photo] \\n \\n \\n \\nFigure 3. PDA \\n[Microsoft Word Clip Art] \\n \\nComputers are everywhere.  They are, of course, in banks, offices, and dorm rooms. We \\nuse desktop and laptop computers to send and read electronic mail, surf the web, and play \\ngames. We see the dramatic results of the use of computers in the exciting special effects',\n",
       " 'games. We see the dramatic results of the use of computers in the exciting special effects \\nin movies. But computers are also in less obvious places.  They are what make our digital',\n",
       " '3\\nwatches, our cellular phones, and our MP3 players work (e.g., Figure 4).  They are in the \\ncars we drive, the gasoline pumps from which we fuel our cars, and in the traffic signals \\nthat steer us safely as we travel about. They are also in the rockets that are launched into \\nspace, as shown in Figure 5. \\n \\nFigure 4. Computers Driving an MP3 \\nPlayer [Microsoft Word Clip Art] \\nFigure 5. Computers in Action in a Rocket \\n[Copyright free, http://gimp-savvy.com] \\n \\nThe computer is an enabling technology. It can be combined with preexisting \\ntechnologies to enable some combination of increased functionality, decreased costs, and \\nincreased design flexibility.  The computer can enable new technologies that might not \\nhave been possible otherwise. \\n \\nHow does a computer accomplish this?  It is a device that controls some process, that is, \\na series of actions to achieve some desired result. It does so by encoding that process',\n",
       " 'a series of actions to achieve some desired result. It does so by encoding that process \\ninternally. The process is thus relatively easy to change as the desired result evolves. \\n \\nConsider the example of traffic signals given above. The process of interest is the safe \\nand efficient movement of many vehicles through an intersection (e.g., Figure 6).  \\nBecause of the driving rules associated with STOP signs, the installation of such signs is \\nan inexpensive solution for low-volume intersections.  Unfortunately, STOP signs are not \\nvery efficient or safe as the traffic volume increases. The replacement of the STOP signs \\nby traffic lights accommodates higher volumes more efficiently by routing several \\nvehicles at once through the intersection. The traffic signal controls the process of traffic \\nmovement more explicitly than STOP signs do. However, the early traffic lights did not \\nwork well when the traffic volumes were irregular, changing from minute to minute,',\n",
       " 'work well when the traffic volumes were irregular, changing from minute to minute, \\nseason to season. The installation of an adaptive traffic signal system can improve the \\nsituation.  It can detect changes in the traffic patterns and adjust the signal times to enable \\nmore efficient movement of traffic through the intersection. The computer is a \\ntechnology that enables an adaptive traffic signal to be designed and implemented in an \\neffective manner.',\n",
       " '4\\n \\n \\n \\nFigure 6. Turns at Intersection on Multilane Streets \\n[http://www.dmv.ca.gov/pubs/hdbk/pgs25thru29.htm#turnexamples] \\n \\nThe professionals who design computers and apply them in ever-expanding ways are the \\ncomputer scientists, computer engineers, and information systems technologists.  In some \\nsense, we might describe computer scientists as the professionals who put a process into \\nthe computer and the computer engineers as the professionals who put the computer into \\na process.  That is, computer engineers design the computers and integrate them into \\nsystems that can control a process of interest. It is the computer scientists who analyze \\nthe process of interest and describe how the process is to be designed and implemented as \\ncomputer software. Similarly, it is the information systems technologists who apply the \\ntools designed by the computer engineers and computer scientists to the needs of an',\n",
       " 'tools designed by the computer engineers and computer scientists to the needs of an \\norganization, such as a business. The purpose of this article is to give you a hint of how \\ncomputer scientists think and what they do. \\nTHE SCIENCE OF COMPUTING \\nAt its core, the science of computing involves the rigorous study of process, in particular, \\nthe study of processes that can be carried out by the devices we call computers.  The \\nscientific (and practical) questions of interest include: How do we carry out a process \\nmethodically?  How do we describe what we do so that computers can carry out the \\nprocess? How do we describe the objects that we are processing? How do know that we \\nare doing it correctly?  How do we do it efficiently?  Are there some things we cannot do \\nefficiently?  Are there some things we cannot do at all?  How do we carry out the process \\nif we can do many things at the same time?   How do we organize our work to describe a',\n",
       " 'if we can do many things at the same time?   How do we organize our work to describe a \\nprocess, especially as the process becomes large and complex?  And so forth. \\n \\nConsider a different example, the process of baking chocolate chip cookies. If a person \\nwishes to bake a batch of chocolate chip cookies (at least for the first time), he or she \\nconsults a recipe, such as the famous recipe for Toll House cookies shown in Figure 7 \\n[http://www.VeryEasyBaking.com]. The recipe assumes that there is a human baker and \\na kitchen available that is equipped with an oven and appropriate baking utensils.  The',\n",
       " '5\\nrecipe also assumes that the needed ingredients have been collected.  The recipe then \\ndescribes exactly what needs to happen for the baker to take the ingredients and use the \\nequipment available to bake the cookies.  The recipe gives a sequence of instructions that \\nare meaningful to a baker in the kitchen: preheat, combine, beat, add, stir, drop, bake, and \\ncool. The recipe also gives some indication of the amount of time it takes to bake the \\nbatch of cookies and how many cookies to expect. \\n \\n \\n \\nIn computer science terminology, the recipe for the process of baking chocolate chip \\ncookies is called an algorithm.  The inputs to the algorithm are the ingredients and the \\nbatch of cookies is the output of the algorithm.  A program is the description of the recipe \\nwritten in a specific language. This is the software for carrying out the process. The \\nperson who writes the program is called a programmer. The specialized language in',\n",
       " 'person who writes the program is called a programmer. The specialized language in \\nwhich the program is written is the programming language. The hardware supporting the \\nprocess consists of the oven, the baking utensils, and, of course, the baker. The process of \\napplying the recipe to bake cookies is called execution of the program.  \\nOriginal Nestlé Toll House Chocolate Chip Cookies \\n \\nEstimated Times: \\nPreparation - 15 min | Cooking - 9 min | Cooling Time - 15 min cooling | Yields - 60  \\n \\nIngredients:  \\n• \\n2 1/4 cups all-purpose flour \\n• \\n1 teaspoon baking soda \\n• \\n1 teaspoon salt \\n• \\n1 cup (2 sticks) butter or margarine, softened \\n• \\n3/4 cup granulated sugar \\n• \\n3/4 cup packed brown sugar \\n• \\n1 teaspoon vanilla extract \\n• \\n2 large eggs \\n• \\n2 cups (12-ounce package) NESTLÉ TOLL HOUSE Semi-Sweet Chocolate Morsels \\n• \\n1 cup chopped nuts \\n \\nDirections: \\nPREHEAT oven to 375° F. \\n \\nCOMBINE flour, baking soda and salt in small bowl. Beat butter, granulated sugar,',\n",
       " 'COMBINE flour, baking soda and salt in small bowl. Beat butter, granulated sugar, \\nbrown sugar and vanilla extract in large mixer bowl until creamy. Add eggs, one at a \\ntime, beating well after each addition. Gradually beat in flour mixture. Stir in morsels and \\nnuts. Drop by rounded tablespoon onto ungreased baking sheets. \\n \\nBAKE for 9 to 11 minutes or until golden brown. Cool on baking sheets for 2 minutes; \\nremove to wire racks to cool completely. \\n \\nFigure 7.  Recipe for Nestlé Toll House Chocolate Chip Cookie \\n[http://www.VeryBestBaking.com]',\n",
       " '6\\n \\nENGINEERING OF COMPUTER PROGRAMS \\nComputers may have been called “giant brains” in old science fiction movies, but that is \\nnonsense. At their basic level, computers are incredibly dumb. They need to be given \\nvery precise instructions with no room for ambiguity. The only language understood by a \\ncomputer’s hardware directly is its machine language.  Each instruction in the machine \\nlanguage is just a sequence of 0’s and 1’s encoded as strings of bits (Figure 8) in the \\ncomputer’s memory.  The data that these instructions act upon are themselves just strings \\nof bits that encode numbers, letters, and other values. The instructions describe simple \\nactions such as to add two integers or move data from one memory location to another.  \\n \\n \\nFigure 8. Computer and Its Bits \\n[Microsoft Word Clip Art] \\n \\nA process that a human programmer wishes to encode within a computer is typically \\nstated in much different terms than sequences of bits.  How can we bridge the gap',\n",
       " 'stated in much different terms than sequences of bits.  How can we bridge the gap \\nbetween the high-level concepts in the process as understood by humans and the low-\\nlevel actions that can be carried out by a computer? \\n \\nLet’s look back at the recipe in Figure 7.  It gives the direction to “stir in the morsels and \\nnuts.” Think about this for a moment.  This is really a high-level description of a whole \\nbunch of small actions such as: pick up 10 morsels and 3 nuts, put these in the mixing \\nbowl, pick up a spatula, insert the spatula into the batter in the bowl, move spatula in a \\ncircular motion for 7 revolutions, remove the spatula (do not lick it!), put down the \\nspatula, and then repeat this sequence again until all morsels and nuts are evenly \\ndistributed in the batter.  Then, if we think about each of these smaller actions, we see \\nthat they are also high-level descriptions of even lower-level sequences of actions.  And \\nso forth.',\n",
       " 'so forth. \\n \\nSimilarly, if we wish to design a computer program for a process, we start with a high-\\nlevel, but precise, description of the process and its data (i.e., the requirements) and \\ndecompose each action or type of data into simpler actions and data.  We then focus on \\neach simpler item and decompose it further.  We continue this technique until we can \\nexpress the actions and data in terms that are meaningful to the computer hardware.  We \\noften organize the resulting software design into a layered architecture as show in Figure \\n9. One layer provides small processes that can be used to implement the larger processes',\n",
       " '7\\nat the level above it.  The layer, in turn, is implemented in terms of the processes in the \\nlayer below.  We can think of a layer as a virtual machine of software instructions \\navailable to implement programs in the higher layer.  \\n \\nOf course, programmers don’t have to go all the way to the machine language layer every \\ntime. They can reuse a lower layer that has been designed and implemented previously. \\nThey can also use specialized software tools (i.e., programs) to help develop the desired \\nnew program. For example, consider Figure 9 again. Suppose Layer 1 represents a high-\\nlevel programming language. A programmer might then use that programming language \\nto write a new program in Layer 2.  Then the programmer can use a software tool called a \\ncompiler to translate this high-level language program to a machine language program \\nthat is supported by the machine (Layer 0).  This is illustrated by Figure 10.',\n",
       " 'that is supported by the machine (Layer 0).  This is illustrated by Figure 10. \\n \\nAlthough computers are superb at handling an enormous number of details at one time, \\nhuman beings are overwhelmed when the number and complexity of the details get \\nbeyond the capacity of our finite minds. To be productive, we must simplify the situation. \\nA layered architecture, as described above, illustrates a more general approach to dealing \\nwith complexity in computer programs—abstraction.  \\n \\nAbstraction means to ignore the unimportant details and focus on the essential features.  \\nWe must look for common patterns and represent groups of low-level entities and actions \\nas higher level entities and actions.  For example, a novice baker may need to refer the \\ndetailed recipe for chocolate chip cookies given in Figure 7.  A more experienced \\napprentice baker may be comfortable with a (more abstract) sequence of higher level',\n",
       " 'apprentice baker may be comfortable with a (more abstract) sequence of higher level \\ninstructions such as “combine ingredients into batter and drop on ungreased baking \\nsheet.”  A master baker might only need abstract instructions such as “bake a batch of \\nchocolate chip cookies” and “bake an apple pie.”  The abstractions enable the baker to \\nhandle many complex processes that must be done in conjunction with each other. \\n \\n  \\nLayer  2  \\nLayer 1  \\n Layer 0  \\nFigure 9. Layered Architecture\\n \\nHigh-level language \\nprogram \\nCompiler \\nMachine \\nlanguage \\nprogram \\nComputer \\nFigure 10.  Translating between Layers',\n",
       " '8\\nThere are two kinds of abstractions at work here. Procedural abstractions are \\nabstractions of actions, for example, “bake.” Data abstractions are abstractions of objects \\nthat are acted upon, for example, “a batch of chocolate chip cookies.”  Both kinds of \\nabstraction are important in the engineering of computer programs. \\n \\nTHE PROFESSIONAL DISCIPLINE OF COMPUTER SCIENCE \\nComputer science is a scientific and engineering discipline.  Although computer scientists \\nmay play computer games, surf the web, use word processors and spreadsheets, and even \\nopen up the case on a PC and tinker with the hardware from time to time, those are not \\nactivities that describe what it means to be a computer scientist.  Like other scientific and \\nengineering disciplines, computer science involves a body of knowledge (i.e., a set of \\nfacts and theories), a set of practices that guide work in the field, and (perhaps more',\n",
       " 'facts and theories), a set of practices that guide work in the field, and (perhaps more \\nimportantly) a way of thinking.   We described some aspects of the way of thinking in the \\nprevious sections—understanding processes and the engineering of a layered architecture \\nof appropriate abstractions to encode the processes for execution by a computer. \\n \\nWhat computer scientists do can be characterized in two ways. First, there are the purely \\nscientific activities noted in a previous section—the study of processes and how \\nprocesses can be represented as algorithms and programs.  Computer science researchers \\nwork to extend and deepen our understanding of these fundamentals. Second, there are \\nthe more practical activities of using an understanding of the science of computing to \\ndesign and implement algorithms and programs to solve real-world problems using \\ncomputers.  The real-world problem might be an automated bakery, an adaptive traffic',\n",
       " 'computers.  The real-world problem might be an automated bakery, an adaptive traffic \\nsignal, a chess-playing computer, the special effects for the next blockbuster movie, or \\nthe operation of a global system to detect earthquakes and tsunamis. \\n \\nThe various scientific and practical activities have their bases in the different topics \\nstudied by computer science students. Well-educated computer scientists must have an \\nunderstanding of what processes can be represented as algorithms for a computer and \\nwhat cannot.  This topic is called the theory of computation. They should also be able to \\ndetermine how efficient an algorithm is, that is, how much time and storage space does \\nthe algorithm take to run in proportion to the size of its inputs. This topic is known as the \\nanalysis of algorithms.  To keep track of the data needed for algorithms to work \\nefficiently, a computer scientist must organize that data in an appropriate manner within',\n",
       " 'efficiently, a computer scientist must organize that data in an appropriate manner within \\nthe computer.  This topic is known as the study of data structures. If the set of data is \\ndiverse, huge, long-lived, or used by several different processes, then a database may be \\nneeded to organize and store the data.  That is another major topic of study for computer \\nscience students. \\n \\nAs a practical matter, computer scientists must have a mastery of the fundamental \\nmethods and technologies of computing.  They must be able to develop an algorithm for a \\nproblem and describe it in a representation appropriate to execute on a computer. This \\nbasic task is called programming and the notation used for describing programs is a \\nprogramming language.  The programmer should verify that the program correctly solves \\nthe problem and test it to discover any defects. Program development and execution \\ndepend upon other technologies. To use computers effectively, programmers must',\n",
       " '9\\nunderstand the basics of the computer organization and network architectures.  They \\nmust also have a working knowledge of key system-level software technologies.  These \\ninclude the operating system that manages and controls a computer’s basic operation, \\nnetworking software that enables many computers to communicate and coordinate their \\nactivities, and programming language compilers, interpreters, and runtime systems that \\ntranslate the programming notations to instructions the computer can execute directly. \\n \\nAlthough computer science practitioners work with computers, they must also consider \\nthe human and social aspects of computing. While programming develops a computer \\nprogram to solve a problem, systems analysis helps determine what problem needs to be \\nsolved to meet the human needs. While the theory of computation deals with what can be \\ndone with computers, the topic of computing ethics is concerned with what should (and',\n",
       " 'done with computers, the topic of computing ethics is concerned with what should (and \\nshould not!) be done from ethical, social, and legal perspectives.  While analysis of \\nalgorithms and data structures deal with the effectiveness of the computer algorithms, the \\ntopic of human-computer interaction is concerned with the effectiveness of the human \\nusers of the computer program.  While programming deals with the software \\ndevelopment activities of a single human, the topic of software engineering is concerned \\nwith the situation where the software becomes too large and complex for one person to \\nmaster.  It deals with both the technical and the organization challenges of large software \\ndevelopment projects. \\n \\nAlthough computer hardware and software are interesting objects on their own, it is the \\napplication of computers to real-world problems that have the most practical significance. \\nMany emerging applications of computers are areas of study and research by computer',\n",
       " 'Many emerging applications of computers are areas of study and research by computer \\nscientists in conjunction with other scientists, engineers, mathematicians, and subject \\nmatter specialists.  For example, the field of bioinformatics looks at how to gather, store, \\nprocess, and interpret huge sets of scientific data drawn from biological, biochemical, and \\nmedical experiments and tests. It seeks to use computing tools to understand life and \\ndevelop cures for diseases. Another active area of application is digital media that looks \\nat effective ways to gather, store, present, and interact with information consisting of a \\nmultimedia mix of text, two- and three-dimensional graphics, animation, sound, and \\ntouch.  Digital media include such technologies as computer games, training simulators, \\nand interactive Web sites. \\nPREPARING TO PRACTICE THE PROFESSION \\nHow should a person prepare to practice this exciting and important discipline called \\ncomputer science?',\n",
       " 'computer science?   \\n \\nAt the high school level, the preparation is almost the same as for any other scientific or \\nengineering discipline.  It is important to have a grasp of the fundamental pre-calculus \\nmathematics (algebra, geometry, and trigonometry).  Some study of calculus or discrete \\nmathematics concepts would be helpful but is not essential. The ability to think logically \\nand reason about quantitative concepts is more important than a lot of rote learning of \\nfacts or methods.  It is important to understand the scientific method and have a good \\nunderstanding of the basic principles of chemistry, physics, biology, and earth science.  \\nAs should be the case with all well-educated citizens, it is also important to be able to',\n",
       " '10\\ncommunicate clearly and effectively in both written and oral forms.  It is important to \\nhave an understanding of human society that can come from the study of history, \\ngovernment, and other social studies.  It is not essential to have previous computer \\nprogramming experience, but it is helpful if you are comfortable using computers. \\n \\nAt the college level, you should study in a program in computer science.  An ABET-\\naccredited professional program in computer science typically includes: \\n \\n• five or six courses in mathematics including differential and integral calculus, discrete \\nmathematics, linear algebra, and probability and statistics \\n• four courses in the natural sciences \\n• two courses in English composition \\n• one course in speech \\n• seven other courses in the humanities, social sciences, and fine arts \\n• a number of courses in computer science including introductory concepts, \\nprogramming in a high-level language such as Java or C++, data structures, computer',\n",
       " 'programming in a high-level language such as Java or C++, data structures, computer \\norganization, digital logic, operating systems and networks, theory of computation, \\nanalysis of algorithms, programming language organization, databases, software \\nengineering, and professional ethics. \\nIn addition to the formal coursework, it is important for you to obtain practical \\nexperiences in computing through internships, co-operative education experiences, part-\\ntime jobs, and general tinkering with the technologies being studied. \\n \\nPRACTICING THE PROFESSION (OR ANOTHER) \\nThe study of computer science at the college level is a good preparation for many fields \\nof professional endeavor.  It encourages the development of problem-solving skills, \\nlogical reasoning, attention to detail, and abstraction abilities.  These serve the graduate \\nwell in his or her future studies, career, and life. \\n \\nAfter study of computer science at the undergraduate level, some graduates will go on to',\n",
       " 'After study of computer science at the undergraduate level, some graduates will go on to \\ngraduate study in computer science to become a more skilled practitioner, a researcher, or \\na college professor.  Other graduates move on to professional studies in medicine, \\ndentistry, law, and management.  Others may directly enter areas such as sales or \\nmanagement. \\n \\nMost computer science graduates go on to technical careers in computing, at least \\ninitially. They may assume various professional positions (as illustrated in Figure 11) in \\nbusiness, industry, academia, government, or research institutions. The computer \\nprofessional may sometimes work alone, but often they will be part of a multidisciplinary \\nteam that must analyze a problem, devise approaches to a solution, select the best \\nsolution, and then design, implement, test, install, and support a computer-based product \\nthat solves the problem. Figure 12 illustrates how various job roles might cooperate in the',\n",
       " 'that solves the problem. Figure 12 illustrates how various job roles might cooperate in the \\ndevelopment of a software product. Figure 13 shows the relationship between various \\nsupport roles and software product development.',\n",
       " '11\\n \\n \\nFigure 11.  Selected Job Roles for Computer Science Graduates    \\n \\nSome computing careers require considerable software development. These are mainly \\nprogrammers, system analysts, and software engineers. While programmers are \\nindividuals with varied educational backgrounds whose main task is programming, \\nsystem analysts and software engineers are more concerned with the analysis and design \\nof the entire system. A related job that requires considerable software knowledge is a \\ntester who is part of the quality assurance team in product development.  A detailed \\ndescription of the various job responsibilities is given in the table in Figure 14.  \\n \\n \\n \\nSoftware \\nTester \\n \\n \\nFaculty/ \\nTraining \\n \\n \\nResearcher \\n \\n \\nSoftware \\nEngineer \\n \\n \\n \\nDatabase \\nAdministrator \\n \\n \\n \\nSystems \\nAnalyst \\nNetwork and \\nSystem \\nAdministrator \\n-Security \\n  Specialist \\nProgrammer \\n  -Systems \\n  -Applications\\n  -Scientific \\n  -Business \\n \\n \\nCOMPUTER \\nSCIENCE  \\nJOBS',\n",
       " '12\\n \\nFigure 12. Computer Professionals in Software Product Development \\n[Microsoft Word Clip Art Components] \\n \\n \\nFigure 13. Computing Jobs in a Company [Microsoft Word Clip Art Components]',\n",
       " '13\\n \\nFigure 14. Software Development Jobs  \\nTypically system analysts and software engineers begin their careers with an initial focus \\non programming and as they gain more experience, they move into the more planning \\noriented roles. A doctorate in computer science may enable one to move directly into \\nsystem design roles based on research experience. These roles require a thorough \\nunderstanding of system and software design principles that can be gained through \\nexperience or research. \\nOther computing careers require technical hardware and software knowledge but do not \\nrequire extensive software development. These include network and systems \\nadministrators, database administrators, security specialists, and support specialists as \\nshown in Figure 15. \\n \\nAt this point, it is important to consider the difference between an education in computer \\nscience and engineering and technical training.  The former, in the setting of a four-year',\n",
       " 'science and engineering and technical training.  The former, in the setting of a four-year \\ncollege, seeks to lay the foundation of attitudes, methods, knowledge, and skills for a \\nlong, productive career as a scientist and engineer. The latter seeks to prepare the students \\nfor jobs as technologists or technicians by teaching them the practical skills and \\nknowledge needed for an immediate job.  Good technicians are needed to keep society \\nfunctioning, but it is the scientists and engineers who help design the future. \\nJob Title \\nResponsibilities \\nSystems Analyst \\n• \\nDiscuss system requirements with users \\n• \\nDefine system to satisfy user needs; specify hardware and \\nsoftware requirements for system \\n• \\nPossess good communication skills \\n• \\nHave extensive knowledge of both technical capabilities \\nand business organization \\nSoftware Engineer \\n• \\nDesign and build software using existing models \\n• \\nAnalyze user’s needs; design, implement, test, and \\nmaintain large software systems \\n•',\n",
       " '• \\nAnalyze user’s needs; design, implement, test, and \\nmaintain large software systems \\n• \\nApply software practices to ensure product reliability, \\ncost effectiveness, and security \\n• \\nResponsible for entire \"life cycle\" of a software system \\nProgrammer \\n• Design, write, test, and maintain programs for a variety of \\napplications \\nSoftware Tester \\n• Design and implement new test cases to test product \\nfunctionality \\n• Assess functionality and integrity of product by carrying \\nout testing on different platforms \\n• Identify errors and report required changes in software',\n",
       " '14\\n \\nJob title \\nResponsibilities \\nNetwork and System Administrators \\n \\n• \\nDesign, install, and maintain organization’s \\ncomputer network \\n• \\nMaintain network hardware and software \\n• \\nImplement and maintain network security \\nmeasures \\n• \\nInstall computer systems software \\n• \\nManage computer systems \\n• \\nPlan for future network growth \\nSecurity Specialists \\n• \\nInstall and maintain secure systems \\n• \\nSpecify security rules and procedures  \\n• \\nDevelop methods and install software to \\nprevent unauthorized access \\n• \\nMonitor log files for suspicious activities \\nDatabase Administrators \\n• \\nMaintain large data bases \\n• \\nResponsible for performance, access  control, \\ndata integrity, and database security \\nSupport Specialists \\n• \\nProvide technical assistance, support, and \\nadvice to customers and other users \\n• \\nAnswer telephone calls; analyze problems \\nusing automated diagnostic programs, and \\nresolve recurrent difficulties \\n• \\nPresent as help desk technicians or customer',\n",
       " 'resolve recurrent difficulties \\n• \\nPresent as help desk technicians or customer \\nservice representatives \\nFigure 15. Other Technical Computing Jobs \\nThere has been considerable concern in recent years that all the good computing jobs are \\nleaving the United States to go to off-shore locations.  This concern is exaggerated. It is \\nthe case that jobs have been “out-sourced” to such locations.  This will continue to be the \\ncase because the general computing infrastructures, knowledge, and skills have greatly \\nimproved in a number of countries in the world and will continue to do so.  However, \\nmany of these “off-shored” jobs are in areas such as customer support centers and well-\\ndefined programming and testing tasks.  Jobs that require physical presence and/or an \\nintense understanding of the business and national culture cannot be readily out-sourced. \\nThese include jobs such as systems and network administration, systems analysis, and',\n",
       " 'These include jobs such as systems and network administration, systems analysis, and \\ndatabase administration.  Businesses are less likely to out-source high-profile roles that \\nare of strategic importance to the future success of the company.   These highly skilled \\npositions will likely stay close to the home office of the company.  These are jobs such as \\nsecurity specialists, system architects, and the software engineers who define and manage \\nthe work undertaken on an out-sourced basis.  Also a number of new areas are developing \\nat the interface between computing and other disciplines in which the developed world \\nwill continue to have an advantage for some time—areas such as bioinformatics and \\nmultimedia technologies.  American programmers can no longer rely on simple \\nknowledge of a programming language and a few other technologies to assure them of \\nhigh paying jobs.  However, strong high-level systems analysis and software engineering',\n",
       " 'high paying jobs.  However, strong high-level systems analysis and software engineering \\nskills will continue to be in demand in the United States.']"
      ]
     },
     "execution_count": 7,
     "metadata": {},
     "output_type": "execute_result"
    }
   ],
   "source": [
    "texts"
   ]
  },
  {
   "cell_type": "code",
   "execution_count": 20,
   "metadata": {},
   "outputs": [
    {
     "name": "stdout",
     "output_type": "stream",
     "text": [
      "✅ 40 chunks embedded and stored in Qdrant under 'pdf_docs'\n"
     ]
    }
   ],
   "source": [
    "from qdrant_client import QdrantClient\n",
    "from qdrant_client.models import Distance, VectorParams, PointStruct\n",
    "import uuid\n",
    "\n",
    "embeddings = vo.embed(texts, model=\"voyage-3\", input_type=\"document\").embeddings\n",
    "collection_name = \"pdf_docs\"\n",
    "embedding_dim = len(embeddings[0])\n",
    "\n",
    "qdrant = QdrantClient(\n",
    "    url=os.getenv(\"QDRANT_URL\"), \n",
    "    api_key=os.getenv(\"QDRANT_API_KEY\"),\n",
    ")\n",
    "\n",
    "\n",
    "if collection_name not in [c.name for c in qdrant.get_collections().collections]:\n",
    "    qdrant.create_collection(\n",
    "        collection_name=collection_name,\n",
    "        vectors_config=VectorParams(size=embedding_dim, distance=Distance.COSINE),\n",
    "    )\n",
    "\n",
    "\n",
    "points = []\n",
    "for chunk, embedding in zip(chunks, embeddings):\n",
    "    metadata = chunk.metadata or {}\n",
    "    point = PointStruct(\n",
    "        id=str(uuid.uuid4()),\n",
    "        vector=embedding,\n",
    "        payload={\n",
    "            \"text\": chunk.page_content,\n",
    "            \"source\": metadata.get(\"source\", \"unknown\"),\n",
    "            \"page\": metadata.get(\"page\", None),\n",
    "            \"filename\": metadata.get(\"file_name\", pdf_path)\n",
    "        }\n",
    "    )\n",
    "    points.append(point)\n",
    "\n",
    "qdrant.upsert(collection_name=collection_name, points=points)\n",
    "\n",
    "print(f\"✅ {len(points)} chunks embedded and stored in Qdrant under '{collection_name}'\")"
   ]
  },
  {
   "cell_type": "code",
   "execution_count": null,
   "metadata": {},
   "outputs": [],
   "source": [
    "from typing import TypedDict, List, Optional\n",
    "\n",
    "class GraphState(TypedDict):\n",
    "    query: str\n",
    "    documents: List[str]\n",
    "    reranked_documents: List[str]\n",
    "    answer: Optional[str]\n",
    "    is_relevant: Optional[bool]\n",
    "    retry_count: int\n",
    "    final_answer: Optional[str]"
   ]
  },
  {
   "cell_type": "code",
   "execution_count": null,
   "metadata": {},
   "outputs": [],
   "source": [
    "def retrieve_chunks(state: GraphState) -> GraphState:\n",
    "    \"\"\"Retrieve chunks using Voyage embeddings and Qdrant\"\"\"\n",
    "    try:\n",
    "        embedding = vo.embed([state['query']], model=\"voyage-3\", input_type=\"query\").embeddings[0]\n",
    "        results = qdrant.search(collection_name=collection_name, query_vector=embedding, limit=8)\n",
    "        \n",
    "        # If no results found for out-of-context questions\n",
    "        if not results:\n",
    "            return {\n",
    "                **state,\n",
    "                \"documents\": [\"No relevant information found in the knowledge base.\"]\n",
    "            }\n",
    "            \n",
    "        return {\n",
    "            **state,\n",
    "            \"documents\": [r.payload['text'] for r in results]\n",
    "        }\n",
    "    except Exception as e:\n",
    "        print(f\"Error in retrieve_chunks: {e}\")\n",
    "        return {\n",
    "            **state,\n",
    "            \"documents\": [\"Unable to retrieve information at this time.\"]\n",
    "        }"
   ]
  },
  {
   "cell_type": "code",
   "execution_count": 115,
   "metadata": {},
   "outputs": [],
   "source": [
    "def rerank(state: GraphState):\n",
    "    reranking = vo.rerank(\n",
    "        query=state['query'],\n",
    "        documents=state['documents'],\n",
    "        model=\"rerank-2-lite\",\n",
    "        top_k=4\n",
    "    )\n",
    "    reranked = [r.document for r in sorted(reranking.results, key=lambda r: r.relevance_score, reverse=True)]\n",
    "    return {**state, \"reranked_documents\": reranked}"
   ]
  },
  {
   "cell_type": "code",
   "execution_count": 116,
   "metadata": {},
   "outputs": [],
   "source": [
    "from pydantic import BaseModel, Field\n",
    "from typing import List, Optional\n",
    "\n",
    "class AnswerSchema(BaseModel):\n",
    "    summary: str = Field(..., description=\"Detailed and comprehensive answer to the query\")\n",
    "    supporting_facts: List[str] = Field(..., description=\"Facts from the context supporting the summary\")\n",
    "    confidence_score: Optional[float] = Field(None, ge=0.0, le=1.0, description=\"Confidence score from 0 to 1\")\n"
   ]
  },
  {
   "cell_type": "code",
   "execution_count": null,
   "metadata": {},
   "outputs": [],
   "source": [
    "from langchain.prompts import PromptTemplate\n",
    "from langchain.output_parsers import PydanticOutputParser\n",
    "from langchain_groq import ChatGroq\n",
    "from langfuse.callback import CallbackHandler\n",
    "import os\n",
    "\n",
    "groq_api_key = os.environ['GROQ_API_KEY']\n",
    "llm = ChatGroq(\n",
    "    temperature=0.2,\n",
    "    api_key=groq_api_key,\n",
    "    model_name=\"llama3-8b-8192\"\n",
    ")\n",
    "\n",
    "langfuse_handler = CallbackHandler(\n",
    "    secret_key=os.environ.get(\"LANGFUSE_SECRET_KEY\"),\n",
    "    public_key=os.environ.get(\"LANGFUSE_PUBLIC_KEY\"),\n",
    "    host=os.environ.get(\"LANGFUSE_HOST\")\n",
    ")\n",
    "langfuse_handler.auth_check()\n",
    "\n",
    "parser = PydanticOutputParser(pydantic_object=AnswerSchema)\n",
    "\n",
    "generation_prompt = PromptTemplate.from_template(\"\"\"\n",
    "Use the context below to answer the question. If unrelated, say you don't know.\n",
    "\n",
    "Context:\n",
    "{context}\n",
    "\n",
    "Question: {query}\n",
    "Your response must be formatted as a JSON object with the following keys:\n",
    "1. \"summary\": A detailed answer to the question\n",
    "2. \"supporting_facts\": A list of facts from the context that support your answer\n",
    "3. \"confidence_score\": A number between 0 and 1 indicating your confidence\n",
    "\n",
    "{format_instructions}\n",
    "Answer (in JSON format):\n",
    "DO NOT MENTION, \"Here is your answer in JSON format as prefix in Answer\n",
    "\"\"\")\n",
    "\n",
    "generation_chain = generation_prompt | llm | parser\n",
    "\n",
    "def generate(state):\n",
    "    \"\"\"Process the query and context to generate a structured answer\"\"\"\n",
    "    context = \"\\n\\n\".join(state['reranked_documents'])\n",
    "    \n",
    "    try:\n",
    "        result = generation_chain.invoke({\n",
    "            \"context\": context,\n",
    "            \"query\": state[\"query\"],\n",
    "            \"format_instructions\": parser.get_format_instructions()\n",
    "        }, config={\"callbacks\": [langfuse_handler]})\n",
    "        print(\"Type of result from generation_chain:\", type(result))\n",
    "        print(\"res::\",result)\n",
    "        return {**state, \"answer\": result.summary}\n",
    "    except Exception as e:\n",
    "        print(f\"Error during generation: {e}\")\n",
    "        return {**state, \"answer\": \"I encountered an issue processing your query. Please try rephrasing or providing more context.\"}"
   ]
  },
  {
   "cell_type": "code",
   "execution_count": 118,
   "metadata": {},
   "outputs": [],
   "source": [
    "def get_final_answer(state: GraphState) -> str:\n",
    "    \"\"\"Determine the final answer based on relevance and retry attempts\"\"\"\n",
    "    \n",
    "    # If the answer was deemed relevant, return it as is\n",
    "    if state[\"is_relevant\"]:\n",
    "        return state[\"answer\"]\n",
    "    \n",
    "    # If not relevant even after retries, return a clear message\n",
    "    if state[\"retry_count\"] > 0:\n",
    "        return f\"I don't have enough information to answer your question about '{state['query']}' as it doesn't appear to be covered in the document, even after attempting to rephrase it. Please try asking something related to the content of the document.\"\n",
    "    \n",
    "    # If not relevant on first attempt\n",
    "    return f\"I don't have enough information to answer your question about '{state['query']}' as it doesn't appear to be covered in the document. Please try asking something related to the content of the document.\"\n"
   ]
  },
  {
   "cell_type": "code",
   "execution_count": null,
   "metadata": {},
   "outputs": [],
   "source": [
    "relevance_prompt = PromptTemplate.from_template(\"\"\"Is the following answer relevant and helpful to the question?\n",
    "\n",
    "Question: {query}\n",
    "Answer: {answer}\n",
    "\n",
    "Respond with only 'yes' or 'no'.\"\"\")\n",
    "\n",
    "judge_chain = relevance_prompt | llm\n",
    "\n",
    "def check_relevance(state: GraphState):\n",
    "    response = judge_chain.invoke({\n",
    "        \"query\": state[\"query\"],\n",
    "        \"answer\": state[\"answer\"]\n",
    "    })\n",
    "    response_text = response.content if hasattr(response, 'content') else str(response)\n",
    "    \n",
    "    relevant = \"yes\" in response_text.lower()\n",
    "    \n",
    "    updated_state = {**state, \"is_relevant\": relevant}\n",
    "    \n",
    "    final_answer = get_final_answer(updated_state)\n",
    "    \n",
    "    return {**updated_state, \"final_answer\": final_answer}\n"
   ]
  },
  {
   "cell_type": "code",
   "execution_count": 127,
   "metadata": {},
   "outputs": [],
   "source": [
    "rephrase_prompt = PromptTemplate.from_template(\"\"\"Rephrase the question to improve clarity for document search:\n",
    "\n",
    "Original: {query}\"\"\")\n",
    "\n",
    "rephrase_chain = rephrase_prompt | llm\n",
    "\n",
    "def rephrase_and_retry(state: GraphState):\n",
    "    response = rephrase_chain.invoke({\"query\": state[\"query\"]})\n",
    "    \n",
    "    # Extract the text content from the AIMessage object\n",
    "    if hasattr(response, 'content'):\n",
    "        improved_query = response.content\n",
    "    else:\n",
    "        # Fallback to string conversion if it's already a string or other type\n",
    "        improved_query = str(response)\n",
    "    \n",
    "    print(f\"Original query: {state['query']}\")\n",
    "    print(f\"Rephrased query: {improved_query}\")\n",
    "    \n",
    "    return {\n",
    "        **state,\n",
    "        \"query\": improved_query,\n",
    "        \"retry_count\": state[\"retry_count\"] + 1\n",
    "    }\n"
   ]
  },
  {
   "cell_type": "code",
   "execution_count": 121,
   "metadata": {},
   "outputs": [],
   "source": [
    "workflow = StateGraph(GraphState)\n",
    "workflow.add_node(\"retrieve\", retrieve_chunks)\n",
    "workflow.add_node(\"rerank\", rerank)\n",
    "workflow.add_node(\"generate\", generate)\n",
    "workflow.add_node(\"judge\", check_relevance)\n",
    "workflow.add_node(\"rephrase\", rephrase_and_retry)\n",
    "\n",
    "workflow.set_entry_point(\"retrieve\")\n",
    "workflow.add_edge(\"retrieve\", \"rerank\")\n",
    "workflow.add_edge(\"rerank\", \"generate\")\n",
    "workflow.add_edge(\"generate\", \"judge\")\n",
    "\n",
    "def judge_condition(state: GraphState) -> str:\n",
    "    if not state[\"is_relevant\"] and state[\"retry_count\"] < 1:\n",
    "        return \"rephrase\"\n",
    "    else:\n",
    "        return \"__end__\"\n",
    "\n",
    "workflow.add_conditional_edges(\n",
    "    \"judge\",\n",
    "    judge_condition,\n",
    "    path_map={\"rephrase\": \"rephrase\", \"__end__\": END}\n",
    ")\n",
    "workflow.add_edge(\"rephrase\", \"retrieve\")\n",
    "workflow.set_finish_point(\"judge\")\n",
    "\n",
    "rag_executor = workflow.compile()"
   ]
  },
  {
   "cell_type": "code",
   "execution_count": 123,
   "metadata": {},
   "outputs": [
    {
     "name": "stderr",
     "output_type": "stream",
     "text": [
      "C:\\Users\\User\\AppData\\Local\\Temp\\ipykernel_1408\\2537296225.py:5: DeprecationWarning: `search` method is deprecated and will be removed in the future. Use `query_points` instead.\n",
      "  results = qdrant.search(collection_name=collection_name, query_vector=embedding, limit=8)\n"
     ]
    },
    {
     "name": "stdout",
     "output_type": "stream",
     "text": [
      "Type of result from generation_chain: <class '__main__.AnswerSchema'>\n",
      "res:: summary='The Science of Computing is the rigorous study of processes, particularly those that can be carried out by computers. It involves understanding how to carry out a process methodically, describe what is done so that computers can execute it, and ensure that it is done correctly and efficiently.' supporting_facts=['The scientific (and practical) questions of interest include: How do we carry out a process methodically? How do we describe what we do so that computers can carry out the process? ... How do we do it efficiently? ...', 'The scientific activities of computer science include the study of processes and how processes can be represented as algorithms and programs.', 'The real-world problem might be an automated bakery, an adaptive traffic signal, a chess-playing computer, the special effects for the next blockbuster movie, or the operation of a global system to detect earthquakes and tsunamis.', 'The various scientific and practical activities have their bases in the different topics studied by computer science students, such as the theory of computation and the analysis of algorithms.'] confidence_score=1.0\n",
      "\n",
      "Final Answer:\n",
      " The Science of Computing is the rigorous study of processes, particularly those that can be carried out by computers. It involves understanding how to carry out a process methodically, describe what is done so that computers can execute it, and ensure that it is done correctly and efficiently.\n",
      "\n",
      "Was it relevant?: True\n",
      "\n",
      "Retry attempts: 0\n"
     ]
    }
   ],
   "source": [
    "query = \"what is THE SCIENCE OF COMPUTING?\"\n",
    "result = rag_executor.invoke({\n",
    "    \"query\": query,\n",
    "    \"documents\": [],\n",
    "    \"reranked_documents\": [],\n",
    "    \"answer\": None,\n",
    "    \"is_relevant\": None,\n",
    "    \"retry_count\": 0,\n",
    "    \"final_answer\": None\n",
    "})\n",
    "\n",
    "print(\"\\nFinal Answer:\\n\", result[\"answer\"])\n",
    "print(\"\\nWas it relevant?:\", result[\"is_relevant\"])\n",
    "print(\"\\nRetry attempts:\", result[\"retry_count\"])"
   ]
  },
  {
   "cell_type": "code",
   "execution_count": 128,
   "metadata": {},
   "outputs": [
    {
     "data": {
      "image/png": "[encoded data removed]",
      "text/plain": [
       "<IPython.core.display.Image object>"
      ]
     },
     "metadata": {},
     "output_type": "display_data"
    }
   ],
   "source": [
    "from IPython.display import Image, display\n",
    "from langchain_core.runnables.graph import  MermaidDrawMethod\n",
    "\n",
    "display(\n",
    "    Image(\n",
    "        rag_executor.get_graph().draw_mermaid_png(\n",
    "            draw_method=MermaidDrawMethod.API,\n",
    "        )\n",
    "    )\n",
    ")"
   ]
  },
  {
   "cell_type": "code",
   "execution_count": null,
   "metadata": {},
   "outputs": [],
   "source": []
  }
 ],
 "metadata": {
  "kernelspec": {
   "display_name": ".venv",
   "language": "python",
   "name": "python3"
  },
  "language_info": {
   "codemirror_mode": {
    "name": "ipython",
    "version": 3
   },
   "file_extension": ".py",
   "mimetype": "text/x-python",
   "name": "python",
   "nbconvert_exporter": "python",
   "pygments_lexer": "ipython3",
   "version": "3.12.4"
  }
 },
 "nbformat": 4,
 "nbformat_minor": 2
}
